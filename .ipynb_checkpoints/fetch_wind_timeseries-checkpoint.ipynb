{
 "cells": [
  {
   "cell_type": "code",
   "execution_count": 1,
   "id": "2ca6675f-2227-4853-bfc8-277a4a09a94b",
   "metadata": {},
   "outputs": [],
   "source": [
    "from fetch_at_point import *"
   ]
  },
  {
   "cell_type": "code",
   "execution_count": 2,
   "id": "fea948e6-0e26-4efc-8f31-615e9450507a",
   "metadata": {},
   "outputs": [
    {
     "name": "stdout",
     "output_type": "stream",
     "text": [
      "Will read 2008 format for grid\n",
      "NV=44181\n",
      "NE=80832\n",
      "NR=45735\n",
      "NS=125027\n",
      "NSI=0\n",
      "NSF=0\n",
      "NBC=7289\n",
      "TNE=80832\n",
      "TNS=0\n",
      "ANGLE=38.0000\n",
      "LOCATION=''\n",
      "Npolys 80832\n"
     ]
    }
   ],
   "source": [
    "RES = 100\n",
    "####\n",
    "fpgrd = 'input/sfei_v20_net_mod.grd'\n",
    "fpbathy = 'input/sfei_v20_net_mod_depth'\n",
    "\n",
    "grd = UnTRIM08Grid(fpgrd)\n",
    "ctrs = grd.cells_center()\n",
    "\n",
    "nodes = grd.nodes['x'][grd.boundary_cycle()]\n",
    "poly = geometry.Polygon(nodes)\n",
    "\n",
    "d = array_NDInterp(ctrs[:, 0], ctrs[:, 1], xy=grd.nodes['x'],\n",
    "                   Z=read_node_depths(fpbathy), type='Nearest')\n",
    "\n",
    "interp = NearestNDInterpolator(ctrs, d)\n",
    "cell = grd.point_to_cell(np.array([573131.50, 4160346.95]))"
   ]
  },
  {
   "cell_type": "code",
   "execution_count": 8,
   "id": "f3db9ba9-e970-4d9e-aa76-74b1c37ea5cd",
   "metadata": {},
   "outputs": [
    {
     "name": "stdout",
     "output_type": "stream",
     "text": [
      "Running in Main...\n",
      "3.4243879318237305\n"
     ]
    }
   ],
   "source": [
    "# P2:573131.50, 4160346.95 // P3: 567858.71, 4160104.62\n",
    "start = time.time()\n",
    "print(\"Running in Main...\")\n",
    "# compute for wind source from West, with n=1000 grid resolution\n",
    "THETAW = np.linspace(90, 180, 96)* np.pi/180 #144*np.pi/180 # mean wind dir- July 2018\n",
    "F = np.empty(THETAW.shape)\n",
    "Df = np.empty(THETAW.shape)\n",
    "for idx, theta in enumerate(THETAW):\n",
    "    F[idx], Df[idx] = fetch(cell, grd, theta, RES, ctrs=ctrs, nodes=nodes, poly=poly, interp=interp, SHOW=False)\n",
    "    #time.sleep(1.25)\n",
    "print(time.time() - start)"
   ]
  },
  {
   "cell_type": "code",
   "execution_count": 9,
   "id": "20ed6ea1-d5b8-4f1e-ae2a-a1f0a27f6ec3",
   "metadata": {},
   "outputs": [
    {
     "data": {
      "text/plain": [
       "array([10339.23145535, 10339.23145536, 10546.01608446, 10756.93640615,\n",
       "       10972.07513428, 11415.3469697 , 11643.65390909, 11643.65390909,\n",
       "       11876.52698727, 11876.52698727, 12356.33867756, 13326.19920133,\n",
       "       13592.72318536, 14424.70658609, 14424.70658609, 14424.70658609,\n",
       "       13864.57764907, 13326.19920133, 13326.19920133, 13326.19920133,\n",
       "       13592.72318536, 13864.57764907, 14424.70658609, 15007.46473217,\n",
       "       15307.61402681, 15926.04163349, 16569.45371549, 25616.0386    ,\n",
       "       25616.03860001, 26128.35937201, 26650.92655945, 26650.92655945,\n",
       "       27183.94509063, 28282.1764723 , 28847.82000174, 50620.87720542,\n",
       "       50620.87720542, 49628.3109857 , 48655.20684873, 40712.5005428 ,\n",
       "       40712.5005428 , 40712.5005428 , 40712.5005428 , 29656.85058624,\n",
       "       29075.343712  , 28282.1764723 , 27727.62399245, 26650.92655944,\n",
       "       25616.03860001, 24621.33660131, 22746.30920178, 22746.30920178,\n",
       "       22300.303139  , 22300.303139  , 24138.5652954 , 23201.23538582,\n",
       "       23201.23538582, 22746.30920178, 23665.26009353, 23665.26009353,\n",
       "       23665.26009353, 23201.23538582, 22746.30920178, 22746.30920178,\n",
       "       22300.303139  , 21863.04229314, 21014.07371505, 21014.07371505,\n",
       "       21434.35518935, 20602.03305397, 20198.07162154, 19802.03100151,\n",
       "       19802.03100151, 19802.03100151, 19802.03100151, 20198.07162154,\n",
       "       20602.03305397, 20198.07162154, 19413.75588383, 19802.03100151,\n",
       "       17935.30957527, 17935.30957527, 17935.30957527, 17583.6368385 ,\n",
       "       16900.8427898 , 16569.45371549, 16900.8427898 , 18294.01576678,\n",
       "       18294.01576678, 18294.01576678, 17583.6368385 , 17238.85964559,\n",
       "       17238.85964559, 12855.53476013, 12603.46545111, 12603.46545111])"
      ]
     },
     "execution_count": 9,
     "metadata": {},
     "output_type": "execute_result"
    }
   ],
   "source": [
    "#np.arange(90, 190, 15)\n",
    "\n",
    "F\n"
   ]
  },
  {
   "cell_type": "code",
   "execution_count": null,
   "id": "a6e335ea-6acc-4637-a45e-b7eee80e5509",
   "metadata": {},
   "outputs": [],
   "source": []
  }
 ],
 "metadata": {
  "kernelspec": {
   "display_name": "Python 3",
   "language": "python",
   "name": "python3"
  },
  "language_info": {
   "codemirror_mode": {
    "name": "ipython",
    "version": 3
   },
   "file_extension": ".py",
   "mimetype": "text/x-python",
   "name": "python",
   "nbconvert_exporter": "python",
   "pygments_lexer": "ipython3",
   "version": "3.9.4"
  }
 },
 "nbformat": 4,
 "nbformat_minor": 5
}
