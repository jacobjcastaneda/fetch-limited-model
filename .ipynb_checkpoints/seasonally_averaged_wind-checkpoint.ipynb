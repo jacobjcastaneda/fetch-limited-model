{
 "cells": [
  {
   "cell_type": "code",
   "execution_count": 1,
   "id": "a9d2f260",
   "metadata": {},
   "outputs": [
    {
     "data": {
      "text/plain": [
       "'\\n@Author: Jacob Castaneda\\n@Date: 8-18-21\\n'"
      ]
     },
     "execution_count": 1,
     "metadata": {},
     "output_type": "execute_result"
    }
   ],
   "source": [
    "\"\"\"\n",
    "@Author: Jacob Castaneda\n",
    "@Date: 8-18-21\n",
    "\"\"\""
   ]
  },
  {
   "cell_type": "code",
   "execution_count": 3,
   "id": "82701a5b",
   "metadata": {},
   "outputs": [],
   "source": [
    "import netCDF4 as nc\n",
    "import numpy as np\n",
    "import datetime"
   ]
  },
  {
   "cell_type": "code",
   "execution_count": 21,
   "id": "96ead9c9",
   "metadata": {},
   "outputs": [
    {
     "name": "stdout",
     "output_type": "stream",
     "text": [
      "2018-05-15 00:00:00\n",
      "47\n",
      "4512.0\n",
      "4512\n",
      "9313\n",
      "<class 'numpy.datetime64'>\n"
     ]
    }
   ],
   "source": [
    "# find index of date you want\n",
    "dt = 15*60\n",
    "start = datetime.datetime(2018, 5, 15, hour=0, minute=0, second=0)\n",
    "print(start)\n",
    "begin = datetime.datetime(2018, 7, 1, hour=0, minute=0, second=0)\n",
    "dt_days = begin - start\n",
    "print(dt_days.days)\n",
    "# need to add 1 since first entry is 0 to get total number of elems but idx is as is since 0 indexed\n",
    "n_elems = ( dt_days.days*(3600*24) / dt )  \n",
    "idx1 = int(n_elems)\n",
    "print(n_elems)\n",
    "print(idx)\n",
    "\n",
    "# find idx for end date and create time array\n",
    "end = datetime.datetime(2018, 8, 20, hour=0, minute=15, second=0)\n",
    "diff = datetime.timedelta(minutes=15)\n",
    "time = np.arange(begin, end, diff)\n",
    "idx2 = idx1 + len(time)\n",
    "print(idx2)\n",
    "print(type(time[0]))"
   ]
  },
  {
   "cell_type": "code",
   "execution_count": 10,
   "id": "42b5472a",
   "metadata": {},
   "outputs": [
    {
     "data": {
      "text/plain": [
       "86400"
      ]
     },
     "execution_count": 10,
     "metadata": {},
     "output_type": "execute_result"
    }
   ],
   "source": [
    "# now have an array for the datetime of each measurement which i can query\n",
    "# also, have corresponding array index, which i can use to access all data associated with time\n",
    "\n",
    "\n",
    "'''\n",
    "for each day, find the average windx, windy, and resulting angle --> \n",
    "1) def timedelta for a day, and find number of idx that make a day\n",
    "2) loop through chunks of array and average windx, windy \n",
    "3) use mean windx and windy to define mean angle \n",
    "'''\n"
   ]
  },
  {
   "cell_type": "code",
   "execution_count": 24,
   "id": "f82ba06c",
   "metadata": {},
   "outputs": [
    {
     "data": {
      "text/plain": [
       "datetime.datetime(2018, 8, 20, 0, 0)"
      ]
     },
     "execution_count": 24,
     "metadata": {},
     "output_type": "execute_result"
    }
   ],
   "source": [
    "def wind_angle(wx, wy):\n",
    "    \"\"\"\n",
    "    wx: x-component of wind vector\n",
    "    wy: y-component of wind vector\n",
    "    \"\"\"\n",
    "    rawAng = np.arctan(wy/wx)\n",
    "    if wy/wx < 0:\n",
    "        # quad 2/4\n",
    "        pass\n",
    "    elif wy/wx > 0:\n",
    "        # quad 1/3\n",
    "        pass\n",
    "    "
   ]
  },
  {
   "cell_type": "code",
   "execution_count": 29,
   "id": "fc0aff24",
   "metadata": {},
   "outputs": [
    {
     "data": {
      "text/plain": [
       "116.56505117707798"
      ]
     },
     "execution_count": 29,
     "metadata": {},
     "output_type": "execute_result"
    }
   ],
   "source": []
  },
  {
   "cell_type": "code",
   "execution_count": null,
   "id": "f7ddbfda",
   "metadata": {},
   "outputs": [],
   "source": []
  }
 ],
 "metadata": {
  "kernelspec": {
   "display_name": "Python 3",
   "language": "python",
   "name": "python3"
  },
  "language_info": {
   "codemirror_mode": {
    "name": "ipython",
    "version": 3
   },
   "file_extension": ".py",
   "mimetype": "text/x-python",
   "name": "python",
   "nbconvert_exporter": "python",
   "pygments_lexer": "ipython3",
   "version": "3.9.4"
  }
 },
 "nbformat": 4,
 "nbformat_minor": 5
}
